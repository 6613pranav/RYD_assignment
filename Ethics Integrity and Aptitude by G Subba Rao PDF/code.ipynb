{
 "cells": [
  {
   "cell_type": "code",
   "execution_count": 8,
   "metadata": {},
   "outputs": [],
   "source": [
    "import json\n",
    "import pdfplumber\n",
    "import PyPDF2 as p\n",
    "pdf=p.PdfFileReader('book 1.pdf')\n",
    "count=pdf.getNumPages()"
   ]
  },
  {
   "cell_type": "markdown",
   "metadata": {},
   "source": [
    "## converting into text"
   ]
  },
  {
   "cell_type": "code",
   "execution_count": 5,
   "metadata": {},
   "outputs": [],
   "source": [
    "with pdfplumber.open(r'book 1.pdf') as pdf:\n",
    "    with open('sample.txt','w',encoding=\"utf8\") as text_output:\n",
    "        for i in range(40,count):\n",
    "            data = pdf.pages[i].extract_text()\n",
    "            text_output.write(data)\n",
    "           "
   ]
  },
  {
   "cell_type": "markdown",
   "metadata": {},
   "source": [
    "## Opening text file and dividing 27 chapters"
   ]
  },
  {
   "cell_type": "code",
   "execution_count": 6,
   "metadata": {},
   "outputs": [],
   "source": [
    "f=open('sample.txt',encoding=\"utf8\") #,\n",
    "\n",
    "#creating an instance s which holds all the content of the text file( sample.txt)\n",
    "s=f.read() \n",
    "    "
   ]
  },
  {
   "cell_type": "code",
   "execution_count": 9,
   "metadata": {},
   "outputs": [],
   "source": [
    "c=1\n",
    "for i in range(1,28):\n",
    "    ST=s.find('C h a p t e r.'+str(i))\n",
    "    EN=s.find('C h a p t e r.'+str(i+1))\n",
    "    text=s[ST:EN]\n",
    "    text=text.split('\\n')\n",
    "    file=\"chapter {}.json\".format(c)\n",
    "    \n",
    "    o = open(file, \"w\",encoding=\"utf8\") \n",
    "    json.dump(text, o, indent = 2, sort_keys = False) \n",
    "    o.close()\n",
    "    \n",
    "    #file=\"chapter {}.json\".format(count)\n",
    "    c+=1\n",
    "    \n",
    "    \n",
    "    #print(text)\n",
    "    #break\n",
    "    "
   ]
  },
  {
   "cell_type": "code",
   "execution_count": null,
   "metadata": {},
   "outputs": [],
   "source": []
  }
 ],
 "metadata": {
  "kernelspec": {
   "display_name": "Python 3",
   "language": "python",
   "name": "python3"
  },
  "language_info": {
   "codemirror_mode": {
    "name": "ipython",
    "version": 3
   },
   "file_extension": ".py",
   "mimetype": "text/x-python",
   "name": "python",
   "nbconvert_exporter": "python",
   "pygments_lexer": "ipython3",
   "version": "3.7.6"
  }
 },
 "nbformat": 4,
 "nbformat_minor": 4
}
