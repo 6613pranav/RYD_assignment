{
 "cells": [
  {
   "cell_type": "code",
   "execution_count": 70,
   "metadata": {},
   "outputs": [],
   "source": [
    "import pdfplumber\n",
    "import PyPDF2 as p\n",
    "pdf=p.PdfFileReader('book 2(eco).pdf')\n",
    "count=pdf.getNumPages()"
   ]
  },
  {
   "cell_type": "code",
   "execution_count": 71,
   "metadata": {},
   "outputs": [],
   "source": [
    "with pdfplumber.open(r'book 2(eco).pdf') as pdf:\n",
    "    with open('sample.txt','w',encoding=\"utf8\") as text_output:\n",
    "        for i in range(7,count):\n",
    "            data = pdf.pages[i].extract_text()\n",
    "            text_output.write(data)\n",
    "           "
   ]
  },
  {
   "cell_type": "markdown",
   "metadata": {},
   "source": [
    "## Open text file and divide 41 chapters\n",
    "\n",
    "\n"
   ]
  },
  {
   "cell_type": "code",
   "execution_count": 72,
   "metadata": {},
   "outputs": [],
   "source": [
    "f=open('sample.txt',encoding=\"utf8\") #,\n",
    "\n",
    "#creating an instance s which holds all the content of the text file( sample.txt)\n",
    "s=f.read() \n",
    "    "
   ]
  },
  {
   "cell_type": "code",
   "execution_count": 85,
   "metadata": {},
   "outputs": [],
   "source": [
    "c=1\n",
    "for i in range(1,42):\n",
    "    ST=s.find('CHAPTER'+str(i))\n",
    "    EN=s.find('CHAPTER'+str(i+1))\n",
    "    text=s[ST:EN]\n",
    "    text=text.split('\\n')\n",
    "    file=\"chapter {}.json\".format(c)\n",
    "    \n",
    "    o = open(file, \"w\",encoding=\"utf8\") \n",
    "    json.dump(text, o, indent = 2, sort_keys = False) \n",
    "    o.close()\n",
    "    \n",
    "    #file=\"chapter {}.json\".format(count)\n",
    "    c+=1\n",
    "    \n",
    "    \n",
    "    #print(text)\n",
    "    #break\n",
    "    \n",
    "    \n",
    "    "
   ]
  },
  {
   "cell_type": "code",
   "execution_count": null,
   "metadata": {},
   "outputs": [],
   "source": []
  },
  {
   "cell_type": "code",
   "execution_count": null,
   "metadata": {},
   "outputs": [],
   "source": []
  },
  {
   "cell_type": "code",
   "execution_count": null,
   "metadata": {},
   "outputs": [],
   "source": []
  },
  {
   "cell_type": "code",
   "execution_count": null,
   "metadata": {},
   "outputs": [],
   "source": []
  },
  {
   "cell_type": "code",
   "execution_count": null,
   "metadata": {},
   "outputs": [],
   "source": [
    "s=page_text1.find('OUTPUT OF AN')"
   ]
  },
  {
   "cell_type": "code",
   "execution_count": 37,
   "metadata": {},
   "outputs": [],
   "source": [
    "e=page_text1.find('TOWARDS INCLUSIVE GROWTH',s)"
   ]
  },
  {
   "cell_type": "code",
   "execution_count": 51,
   "metadata": {},
   "outputs": [],
   "source": [
    "import json"
   ]
  },
  {
   "cell_type": "code",
   "execution_count": 53,
   "metadata": {},
   "outputs": [],
   "source": [
    "count=1"
   ]
  },
  {
   "cell_type": "code",
   "execution_count": 58,
   "metadata": {},
   "outputs": [],
   "source": [
    "file=\"chapter {}.json\".format(count)\n",
    "count+=1"
   ]
  },
  {
   "cell_type": "code",
   "execution_count": 59,
   "metadata": {},
   "outputs": [],
   "source": [
    "o = open(file, \"w\") \n",
    "json.dump(li, o, indent = 4, sort_keys = False) \n",
    "o.close() "
   ]
  },
  {
   "cell_type": "code",
   "execution_count": null,
   "metadata": {},
   "outputs": [],
   "source": [
    "# importing required modules \n",
    "import PyPDF2 \n",
    "import json\n",
    "import csv\n",
    "# creating a pdf file object \n",
    "pdfFileObj = open('XQF.pdf', 'rb')\n",
    "\n",
    "# creating a pdf reader object\n",
    "pdfReader = PyPDF2.PdfFileReader(pdfFileObj) \n",
    "with open('sample.txt','w') as text_output:\n",
    "    for i in range(pdfReader.numPages):\n",
    "       \n",
    "        # creating a page object\n",
    "        pageObj = pdfReader.getPage(i)\n",
    "        \n",
    "        # extracting text from page \n",
    "        data=pageObj.extractText()\n",
    "        \n",
    "        #writing the data to a text file(sample.txt)\n",
    "        text_output.write(data)\n",
    "\n",
    "# closing the pdf file object \n",
    "pdfFileObj.close() "
   ]
  },
  {
   "cell_type": "code",
   "execution_count": null,
   "metadata": {},
   "outputs": [],
   "source": []
  },
  {
   "cell_type": "code",
   "execution_count": 69,
   "metadata": {},
   "outputs": [
    {
     "data": {
      "text/plain": [
       "4"
      ]
     },
     "execution_count": 69,
     "metadata": {},
     "output_type": "execute_result"
    }
   ],
   "source": [
    "count"
   ]
  },
  {
   "cell_type": "code",
   "execution_count": null,
   "metadata": {},
   "outputs": [],
   "source": []
  }
 ],
 "metadata": {
  "kernelspec": {
   "display_name": "Python 3",
   "language": "python",
   "name": "python3"
  },
  "language_info": {
   "codemirror_mode": {
    "name": "ipython",
    "version": 3
   },
   "file_extension": ".py",
   "mimetype": "text/x-python",
   "name": "python",
   "nbconvert_exporter": "python",
   "pygments_lexer": "ipython3",
   "version": "3.7.6"
  }
 },
 "nbformat": 4,
 "nbformat_minor": 4
}
